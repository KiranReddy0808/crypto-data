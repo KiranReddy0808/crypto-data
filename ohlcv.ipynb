{
 "cells": [
  {
   "cell_type": "code",
   "execution_count": null,
   "id": "8861e4c4",
   "metadata": {},
   "outputs": [],
   "source": [
    "import ccxt\n",
    "import pandas as pd\n",
    "import time\n",
    "from datetime import datetime\n",
    "\n",
    "exchange = ccxt.binance({\n",
    "    'enableRateLimit': True,\n",
    "})\n",
    "\n",
    "symbols = ['BTC/USDT', 'ETH/USDT', 'BNB/USDT', 'LTC/USDT', 'ADA/USDT', 'XRP/USDT', 'SOL/USDT', 'DOGE/USDT']\n",
    "\n",
    "timeframe = '1m'\n",
    "limit = 1000\n",
    "days = 70\n",
    "minutes = days * 24 * 60 \n",
    "chunks = minutes // limit + 1\n",
    "end_time = exchange.milliseconds()\n",
    "\n",
    "def fetch_ohlcv(symbol):\n",
    "    print(f\"Fetching: {symbol}\")\n",
    "    since = end_time - minutes * 60_000\n",
    "    all_data = []\n",
    "\n",
    "    for _ in range(chunks):\n",
    "        try:\n",
    "            ohlcv = exchange.fetch_ohlcv(symbol, timeframe=timeframe, since=since, limit=limit)\n",
    "            if not ohlcv:\n",
    "                break\n",
    "            all_data.extend(ohlcv)\n",
    "            since = ohlcv[-1][0] + 60_000\n",
    "            time.sleep(1.1)\n",
    "        except Exception as e:\n",
    "            print(f\"Error fetching {symbol}: {e}\")\n",
    "            break\n",
    "\n",
    "    df = pd.DataFrame(all_data, columns=['timestamp', 'open', 'high', 'low', 'close', 'volume'])\n",
    "    df['datetime'] = pd.to_datetime(df['timestamp'], unit='ms')\n",
    "    return df\n",
    "\n",
    "# def fetch_orderbook(symbol):\n",
    "#     print(f\"Fetching order book for: {symbol}\")\n",
    "#     since = 1745362800000\n",
    "#     try:\n",
    "#         orderbook = exchange.fetch_order_book(symbol, timeframe=timeframe, since = since, limit=limit)\n",
    "\n",
    "for symbol in symbols:\n",
    "    df = fetch_ohlcv(symbol)\n",
    "    symbol_clean = symbol.replace('/', '')\n",
    "    df.to_csv(f\"{symbol_clean}_1m.csv\", index=False)\n",
    "    print(f\"Saved {symbol_clean}_1m.csv\")"
   ]
  },
  {
   "cell_type": "code",
   "execution_count": null,
   "id": "9af8d10f",
   "metadata": {},
   "outputs": [],
   "source": []
  }
 ],
 "metadata": {
  "kernelspec": {
   "display_name": "base",
   "language": "python",
   "name": "python3"
  },
  "language_info": {
   "codemirror_mode": {
    "name": "ipython",
    "version": 3
   },
   "file_extension": ".py",
   "mimetype": "text/x-python",
   "name": "python",
   "nbconvert_exporter": "python",
   "pygments_lexer": "ipython3",
   "version": "3.12.4"
  }
 },
 "nbformat": 4,
 "nbformat_minor": 5
}
